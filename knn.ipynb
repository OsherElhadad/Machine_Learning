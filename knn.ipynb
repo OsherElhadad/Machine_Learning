{
  "cells": [
    {
      "cell_type": "markdown",
      "metadata": {
        "id": "FnIE9WTOfS1l"
      },
      "source": [
        "<h1><center><b>Machine Learning</></center></h1>\n",
        "<h4><center>89-511</center></h4>\n",
        "<h3><center>Exercise 1 - Practical Part</center></h3>"
      ]
    },
    {
      "cell_type": "markdown",
      "metadata": {
        "id": "E89lXXfbfXHm"
      },
      "source": [
        "Your Name:  \n",
        "<font color='red'>\n",
        "Osher Elhadad, 318969748   \n",
        "</font>\n"
      ]
    },
    {
      "cell_type": "markdown",
      "metadata": {
        "id": "3lYBy6xqfjeZ"
      },
      "source": [
        "____________"
      ]
    },
    {
      "cell_type": "markdown",
      "metadata": {
        "id": "MQHH33U_fcfO"
      },
      "source": [
        "In this exercise we will learn to:\n",
        "1. Load and prepare datasets.\n",
        "2. Implement KNN algorithm."
      ]
    },
    {
      "cell_type": "markdown",
      "metadata": {
        "id": "NJMv-ROefl8X"
      },
      "source": [
        "**Instructions:**\n",
        "- Create a copy of this notebook and implement your code in it.\n",
        "- Make sure all the cells run without errors.\n",
        "- When you finish the assignment, download the notebook and submit it and your pdf file to the **\"submit\"** system. \n",
        "To Download the notebook go to **\"File\"** -> **\"Download .ipynb\"**.  \n",
        "\n",
        "\n",
        "\n",
        "If you have questions, please ask at the forum on moodle.\n",
        "\n",
        "Personal requests please send to TA emails."
      ]
    },
    {
      "cell_type": "markdown",
      "metadata": {
        "id": "4GQhuPnKGMDv"
      },
      "source": [
        "### **1. Introduction to Colab and Numpy**"
      ]
    },
    {
      "cell_type": "markdown",
      "metadata": {
        "id": "aEUfaBxEGPYv"
      },
      "source": [
        "We use the Python programming language for all assignments in this course with the help of popular packages (like numpy, matplotlib, sklearn, scipy and pytorch)."
      ]
    },
    {
      "cell_type": "markdown",
      "metadata": {
        "id": "w3J-LD1JGRnz"
      },
      "source": [
        "Go over this **[numpy tutorial](https://numpy.org/doc/stable/user/quickstart.html)** or this **[tutorial](https://cs231n.github.io/python-numpy-tutorial/)** before starting this assignment and **[this notebook](https://colab.research.google.com/github/cs231n/cs231n.github.io/blob/master/python-colab.ipynb)** to understand how to work with basic packages and with Google Colab. It is important to go over them before starting this assignment."
      ]
    },
    {
      "cell_type": "code",
      "execution_count": 207,
      "metadata": {
        "collapsed": true,
        "id": "UrvjGAig6ZVz"
      },
      "outputs": [],
      "source": [
        "import numpy as np # linear algebra\n",
        "import matplotlib.pyplot as plt\n",
        "%matplotlib inline"
      ]
    },
    {
      "cell_type": "markdown",
      "metadata": {
        "id": "txhZN0oi_sN7"
      },
      "source": [
        "Play with NumPy here:"
      ]
    },
    {
      "cell_type": "code",
      "execution_count": 208,
      "metadata": {
        "colab": {
          "base_uri": "https://localhost:8080/"
        },
        "id": "PX_F6QmR_w6k",
        "outputId": "b0e0d15b-c472-42e5-cee9-bac9452a3343"
      },
      "outputs": [
        {
          "output_type": "execute_result",
          "data": {
            "text/plain": [
              "(array([1, 2, 3]), array([4, 5, 6]))"
            ]
          },
          "metadata": {},
          "execution_count": 208
        }
      ],
      "source": [
        "x = np.array([1,2,3])\n",
        "y = np.array([4,5,6])\n",
        "x, y"
      ]
    },
    {
      "cell_type": "markdown",
      "metadata": {
        "id": "Bb9L0pZOAniX"
      },
      "source": [
        "Pay attention: with NumPy, you can sum vectors in one line, you don't have to iterate over the elements."
      ]
    },
    {
      "cell_type": "code",
      "execution_count": 209,
      "metadata": {
        "colab": {
          "base_uri": "https://localhost:8080/"
        },
        "id": "kNef8D0O_3Yp",
        "outputId": "64e6a1a1-1583-48b1-a76f-38571969f717"
      },
      "outputs": [
        {
          "output_type": "execute_result",
          "data": {
            "text/plain": [
              "array([5, 7, 9])"
            ]
          },
          "metadata": {},
          "execution_count": 209
        }
      ],
      "source": [
        "x + y\n",
        "# x - y\n",
        "# x * y\n",
        "# x**2\n",
        "# (x - y)**2"
      ]
    },
    {
      "cell_type": "code",
      "execution_count": 210,
      "metadata": {
        "colab": {
          "base_uri": "https://localhost:8080/"
        },
        "id": "HDHXT8erBjrB",
        "outputId": "b2eef779-0048-4691-951e-ad1e182a560b"
      },
      "outputs": [
        {
          "output_type": "stream",
          "name": "stdout",
          "text": [
            "6\n"
          ]
        },
        {
          "output_type": "execute_result",
          "data": {
            "text/plain": [
              "array([1.        , 1.41421356, 1.73205081])"
            ]
          },
          "metadata": {},
          "execution_count": 210
        }
      ],
      "source": [
        "print(np.sum(x))\n",
        "# np.mean(x)\n",
        "np.sqrt(x)"
      ]
    },
    {
      "cell_type": "markdown",
      "metadata": {
        "id": "RFeWSRKXGYwt"
      },
      "source": [
        "### **2. Data**"
      ]
    },
    {
      "cell_type": "markdown",
      "metadata": {
        "id": "OxJ5oDEYBfzx"
      },
      "source": [
        "##Data\n",
        "We'll use CIFAR10 dataset.\n",
        "It is a very familiar dataset. Please read a little bit [here](https://www.cs.toronto.edu/~kriz/cifar.html).\n",
        "\n",
        "To import the dataset, we'll use the torch library. Don't dig about this library now, we will learn about it better in the next weeks."
      ]
    },
    {
      "cell_type": "code",
      "execution_count": 211,
      "metadata": {
        "id": "duNdiOxThkGX"
      },
      "outputs": [],
      "source": [
        "import torch\n",
        "from torchvision import datasets,transforms\n",
        "import torchvision"
      ]
    },
    {
      "cell_type": "code",
      "execution_count": 212,
      "metadata": {
        "colab": {
          "base_uri": "https://localhost:8080/"
        },
        "id": "l3oDm59FhrLf",
        "outputId": "02329beb-7271-4e53-ead0-58e887b30225"
      },
      "outputs": [
        {
          "output_type": "stream",
          "name": "stdout",
          "text": [
            "Files already downloaded and verified\n",
            "Files already downloaded and verified\n"
          ]
        }
      ],
      "source": [
        "######################################################\n",
        "##   Don't change this cell. Use it as a black box  ##\n",
        "######################################################\n",
        "\n",
        "transform = transforms.Compose(\n",
        "    [transforms.ToTensor(),\n",
        "     ])\n",
        "\n",
        "trainset = torchvision.datasets.CIFAR10(root='./data', train=True,\n",
        "                                        download=True, transform=transform)\n",
        "trainloader = torch.utils.data.DataLoader(trainset, batch_size=100,\n",
        "                                          shuffle=True, num_workers=1)\n",
        "\n",
        "testset = torchvision.datasets.CIFAR10(root='./data', train=False,\n",
        "                                       download=True, transform=transform)\n",
        "testloader = torch.utils.data.DataLoader(testset, batch_size=10,\n",
        "                                         shuffle=False, num_workers=1)\n",
        "\n",
        "# CIFAR10 labels:\n",
        "classes = ('plane', 'car', 'bird', 'cat',\n",
        "           'deer', 'dog', 'frog', 'horse', 'ship', 'truck')"
      ]
    },
    {
      "cell_type": "markdown",
      "metadata": {
        "id": "mmmmXVkzCT_e"
      },
      "source": [
        "Let's see a few images with their labels"
      ]
    },
    {
      "cell_type": "code",
      "execution_count": 213,
      "metadata": {
        "colab": {
          "base_uri": "https://localhost:8080/",
          "height": 127
        },
        "id": "pe-chMNui1-G",
        "outputId": "1f78d58e-ba46-4dad-9dd5-9df6ffda9707"
      },
      "outputs": [
        {
          "output_type": "display_data",
          "data": {
            "text/plain": [
              "<Figure size 432x288 with 1 Axes>"
            ],
            "image/png": "[encoded data removed]"
          },
          "metadata": {
            "needs_background": "light"
          }
        },
        {
          "output_type": "stream",
          "name": "stdout",
          "text": [
            " frog  frog  frog horse truck plane\n"
          ]
        }
      ],
      "source": [
        "# functions to show an image\n",
        "def imshow(img):\n",
        "    img = img / 2 + 0.5     # unnormalize\n",
        "    npimg = img.numpy()\n",
        "    plt.imshow(np.transpose(npimg, (1, 2, 0)))\n",
        "    plt.show()\n",
        "\n",
        "\n",
        "# get some random training images\n",
        "dataiter = iter(trainloader)\n",
        "images, labels = dataiter.next()\n",
        "\n",
        "testiter = iter(testloader)\n",
        "test_images, test_labels = testiter.next()\n",
        "\n",
        "# show images\n",
        "imshow(torchvision.utils.make_grid(images[:6]))\n",
        "# print labels\n",
        "print(' '.join('%5s' % classes[labels[j]] for j in range(6)))"
      ]
    },
    {
      "cell_type": "markdown",
      "metadata": {
        "id": "E7WnAEEPjshc"
      },
      "source": [
        "Each image is represented as a RGB image.\n",
        "each pixel has a number between 0 and 1 on each dimension."
      ]
    },
    {
      "cell_type": "code",
      "execution_count": 214,
      "metadata": {
        "colab": {
          "base_uri": "https://localhost:8080/"
        },
        "id": "FM1kkK1jjo7q",
        "outputId": "23d03d3a-f586-44f4-8745-1b2b9fa5199f"
      },
      "outputs": [
        {
          "output_type": "execute_result",
          "data": {
            "text/plain": [
              "(tensor([[[0.5176, 0.6039, 0.6118,  ..., 0.4549, 0.5020, 0.4902],\n",
              "          [0.4431, 0.5176, 0.5882,  ..., 0.4000, 0.4784, 0.4510],\n",
              "          [0.4353, 0.5059, 0.5843,  ..., 0.4039, 0.4824, 0.4627],\n",
              "          ...,\n",
              "          [0.8039, 0.7882, 0.7843,  ..., 0.8196, 0.8157, 0.7922],\n",
              "          [0.7843, 0.7529, 0.7882,  ..., 0.8039, 0.7961, 0.7882],\n",
              "          [0.7647, 0.7490, 0.7804,  ..., 0.7922, 0.7843, 0.7882]],\n",
              " \n",
              "         [[0.4471, 0.5373, 0.5490,  ..., 0.4353, 0.5059, 0.4745],\n",
              "          [0.3725, 0.4549, 0.5255,  ..., 0.3569, 0.4745, 0.4392],\n",
              "          [0.3647, 0.4392, 0.5216,  ..., 0.3647, 0.4824, 0.4549],\n",
              "          ...,\n",
              "          [0.6549, 0.6314, 0.6196,  ..., 0.6745, 0.6667, 0.6471],\n",
              "          [0.6314, 0.5922, 0.6196,  ..., 0.6549, 0.6471, 0.6353],\n",
              "          [0.6039, 0.5922, 0.6196,  ..., 0.6431, 0.6314, 0.6314]],\n",
              " \n",
              "         [[0.4235, 0.5020, 0.4980,  ..., 0.4039, 0.4784, 0.4588],\n",
              "          [0.3608, 0.4196, 0.4706,  ..., 0.3373, 0.4510, 0.4235],\n",
              "          [0.3569, 0.4118, 0.4745,  ..., 0.3451, 0.4549, 0.4392],\n",
              "          ...,\n",
              "          [0.6118, 0.5961, 0.5922,  ..., 0.6196, 0.6196, 0.6078],\n",
              "          [0.5882, 0.5529, 0.5804,  ..., 0.6078, 0.6118, 0.6039],\n",
              "          [0.5647, 0.5529, 0.5804,  ..., 0.6078, 0.5961, 0.6000]]]),\n",
              " torch.Size([3, 32, 32]))"
            ]
          },
          "metadata": {},
          "execution_count": 214
        }
      ],
      "source": [
        "images[0], images[0].size()"
      ]
    },
    {
      "cell_type": "markdown",
      "metadata": {
        "id": "qDAXwa4F6ZWT"
      },
      "source": [
        "CIFAR is a big datadset, let's use only 100 images and convert them to numpy arrays"
      ]
    },
    {
      "cell_type": "markdown",
      "metadata": {
        "id": "ET8mhNueCeFj"
      },
      "source": [
        "#### Train Set"
      ]
    },
    {
      "cell_type": "code",
      "execution_count": 215,
      "metadata": {
        "id": "tgnGJ0D2k0To"
      },
      "outputs": [],
      "source": [
        "x_train = np.array(images)\n",
        "y_train = np.array(labels)"
      ]
    },
    {
      "cell_type": "code",
      "execution_count": 216,
      "metadata": {
        "colab": {
          "base_uri": "https://localhost:8080/"
        },
        "id": "4XE9nvkA6ZWU",
        "outputId": "b6bc64cd-a652-4a3f-b50d-676b626d2399"
      },
      "outputs": [
        {
          "output_type": "execute_result",
          "data": {
            "text/plain": [
              "((100, 3, 32, 32), (100,))"
            ]
          },
          "metadata": {},
          "execution_count": 216
        }
      ],
      "source": [
        "x_train.shape, y_train.shape"
      ]
    },
    {
      "cell_type": "markdown",
      "metadata": {
        "id": "ju_se3Sk6ZWV"
      },
      "source": [
        "#### Test Set"
      ]
    },
    {
      "cell_type": "code",
      "execution_count": 217,
      "metadata": {
        "colab": {
          "base_uri": "https://localhost:8080/"
        },
        "collapsed": true,
        "id": "StHT3jMF6ZWX",
        "outputId": "0c0da7dd-cb7a-42da-9b52-cdadb4d46a72"
      },
      "outputs": [
        {
          "output_type": "execute_result",
          "data": {
            "text/plain": [
              "((10, 3, 32, 32), (10,))"
            ]
          },
          "metadata": {},
          "execution_count": 217
        }
      ],
      "source": [
        "x_test = np.array(test_images)\n",
        "y_test = np.array(test_labels)\n",
        "x_test.shape, y_test.shape"
      ]
    },
    {
      "cell_type": "markdown",
      "metadata": {
        "id": "dn6LYfAS710-"
      },
      "source": [
        "### **3. KNN**"
      ]
    },
    {
      "cell_type": "markdown",
      "metadata": {
        "id": "QGgbwQg5BBk8"
      },
      "source": [
        "First of all, let's implement euclidean distance function, so we will be able to calculate closeness between images.\n",
        "\n",
        "**A reminder**: the euclidean distance formula is:\n",
        "\n",
        "![image.png](data:image/png;base64,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)\n",
        "\n",
        "**Pay attention**: point representation might contains more than two numbers (means m>2)."
      ]
    },
    {
      "cell_type": "code",
      "execution_count": 218,
      "metadata": {
        "id": "6JEOP8Iy9Oed"
      },
      "outputs": [],
      "source": [
        "def euclidean_distance(p1, p2):\n",
        "  return np.sqrt(np.sum((np.array(p1)-np.array(p2))**2))"
      ]
    },
    {
      "cell_type": "markdown",
      "metadata": {
        "id": "p0nmKRhmCiZO"
      },
      "source": [
        "Now, let's implement KNeighborsClassifier class.\n",
        "\n",
        "In 'fit' function you have to get the inputs, and prepare the classifier for prediction (think what exactly you have to prepare)\n",
        "\n",
        "In 'predict' fucntion you have to get a test set and return a numpy array contains the classes (that the model predicted) of each element from the test set.\n",
        "\n",
        "We added a few more function declarations that might help you. Fill free to implement them (or not) and to add some more functions.\n",
        "\n",
        "In adition, we've presented a few KNN implementations in class. You are allowed to implement your own algorithm.\n"
      ]
    },
    {
      "cell_type": "code",
      "execution_count": 219,
      "metadata": {
        "id": "KboWqZLE7zuE"
      },
      "outputs": [],
      "source": [
        "from collections import Counter\n",
        "\n",
        "class KNeighborsClassifier:\n",
        "  def __init__(self, distance_metric=euclidean_distance, n_neighbors=None):\n",
        "    self.k = n_neighbors\n",
        "    self.distance_func = distance_metric\n",
        "\n",
        "  def fit(self, x, y):\n",
        "    self.images_arr = x\n",
        "    self.images_classes = y\n",
        "\n",
        "  def predict(self, x_test):\n",
        "    predicted = []\n",
        "    for test_img in x_test:\n",
        "      distance_arr = self.distance(test_img)\n",
        "      nearest_neighbor_class = self.nearest_neighbor(distance_arr)\n",
        "      predicted.append(nearest_neighbor_class)\n",
        "    return np.array(predicted)\n",
        "  \n",
        "  def distance(self, test_img):\n",
        "    distance_arr = []\n",
        "    for train_img in self.images_arr:\n",
        "      distance_arr.append(self.distance_func(test_img, train_img))\n",
        "    return np.array(distance_arr)\n",
        "\n",
        "  def nearest_neighbor(self, distance_array):\n",
        "    k_nearest_indexes = np.argsort(distance_array)[:self.k]\n",
        "    k_nearest_classes = self.images_classes[k_nearest_indexes]\n",
        "    return Counter(k_nearest_classes).most_common(1)[0][0]\n",
        "\n"
      ]
    },
    {
      "cell_type": "code",
      "execution_count": 220,
      "metadata": {
        "id": "Y1XqlDE7BaS-"
      },
      "outputs": [],
      "source": [
        "def error_rate(y_predict, y_true):\n",
        "  \"\"\"\n",
        "  y_predict: the model's output\n",
        "  y_true: the expected output\n",
        "  \"\"\"\n",
        "  return np.mean(y_predict != y_true)\n",
        "  "
      ]
    },
    {
      "cell_type": "markdown",
      "metadata": {
        "id": "70eV3Bbk6ZWY"
      },
      "source": [
        "**Using KNN**"
      ]
    },
    {
      "cell_type": "markdown",
      "metadata": {
        "id": "bucbcM056ZWZ"
      },
      "source": [
        "Use the KNeighborsClassifier class you've implemented with n_neighbors=1. Fit this KNN model to the training data."
      ]
    },
    {
      "cell_type": "code",
      "execution_count": 221,
      "metadata": {
        "id": "HlCwTN6f6ZWa"
      },
      "outputs": [],
      "source": [
        "knn = KNeighborsClassifier(n_neighbors=1)\n",
        "knn.fit(x_train,y_train)"
      ]
    },
    {
      "cell_type": "markdown",
      "metadata": {
        "id": "WAfvzL676ZWb"
      },
      "source": [
        "**Predictions and Evaluations**"
      ]
    },
    {
      "cell_type": "markdown",
      "metadata": {
        "id": "uRAZcinr6ZWc"
      },
      "source": [
        "Use the predict method to predict values using your KNN model and x_test. In addition, create a [confusion matrix](https://www.sciencedirect.com/topics/engineering/confusion-matrix) and a [classification report](https://scikit-learn.org/stable/modules/generated/sklearn.metrics.classification_report.html).\n",
        "\n",
        "Make sure you don't get any errors in this cell."
      ]
    },
    {
      "cell_type": "code",
      "execution_count": 222,
      "metadata": {
        "colab": {
          "base_uri": "https://localhost:8080/"
        },
        "id": "Nljusqxg6ZWd",
        "outputId": "96d9466b-9d61-4de8-e6b8-714f07a16038"
      },
      "outputs": [
        {
          "output_type": "stream",
          "name": "stdout",
          "text": [
            "[[0 0 0 0 0 1]\n",
            " [0 0 0 0 1 1]\n",
            " [0 0 0 0 0 0]\n",
            " [1 0 1 0 0 0]\n",
            " [0 0 2 0 1 0]\n",
            " [0 0 0 0 0 2]]\n",
            "              precision    recall  f1-score   support\n",
            "\n",
            "           0       0.00      0.00      0.00         1\n",
            "           1       0.00      0.00      0.00         2\n",
            "           2       0.00      0.00      0.00         0\n",
            "           3       0.00      0.00      0.00         2\n",
            "           6       0.50      0.33      0.40         3\n",
            "           8       0.50      1.00      0.67         2\n",
            "\n",
            "    accuracy                           0.30        10\n",
            "   macro avg       0.17      0.22      0.18        10\n",
            "weighted avg       0.25      0.30      0.25        10\n",
            "\n"
          ]
        }
      ],
      "source": [
        "pred = knn.predict(x_test)\n",
        "from sklearn.metrics import classification_report,confusion_matrix\n",
        "print(confusion_matrix(y_test,pred))\n",
        "print(classification_report(y_test,pred,zero_division=0))"
      ]
    },
    {
      "cell_type": "markdown",
      "metadata": {
        "id": "R0UxmSd26ZWe"
      },
      "source": [
        "**Choosing a K Value**"
      ]
    },
    {
      "cell_type": "markdown",
      "metadata": {
        "id": "ZxskqOWf6ZWe"
      },
      "source": [
        "Implement a for loop in 'find_best_k' function (hint: use KNeighborsClassifier object) that trains various KNN models with different k values, then keep track of the error_rate for each of these models with a list.\n",
        "The function will return the best k, and the error rate of each k as a numpy array."
      ]
    },
    {
      "cell_type": "code",
      "execution_count": 223,
      "metadata": {
        "collapsed": true,
        "id": "s1Zwd1PB6ZWf"
      },
      "outputs": [],
      "source": [
        "MIN_K = 1\n",
        "MAX_K = 15\n",
        "\n",
        "def find_best_k(min_k=1, max_k=15):\n",
        "  k_arr = []\n",
        "  error_rate_arr = []\n",
        "  for k in range(min_k, max_k + 1):\n",
        "    knn = KNeighborsClassifier(n_neighbors=k)\n",
        "    knn.fit(x_train,y_train)\n",
        "    pred = knn.predict(x_test)\n",
        "    k_arr.append(k)\n",
        "    error_rate_arr.append(error_rate(pred, y_test))\n",
        "  error_rate_np = np.array(error_rate_arr)\n",
        "  min_val_index = np.argmin(error_rate_arr)\n",
        "  return k_arr[min_val_index], error_rate_np\n",
        "\n"
      ]
    },
    {
      "cell_type": "code",
      "execution_count": 224,
      "metadata": {
        "id": "hgiv4I1xEof5"
      },
      "outputs": [],
      "source": [
        "best_k, error_rate_arr = find_best_k(min_k=MIN_K, max_k=MAX_K)"
      ]
    },
    {
      "cell_type": "markdown",
      "metadata": {
        "id": "XRnwmDcD6ZWg"
      },
      "source": [
        "Now create the following plot using the information from your for loop."
      ]
    },
    {
      "cell_type": "code",
      "execution_count": 225,
      "metadata": {
        "colab": {
          "base_uri": "https://localhost:8080/",
          "height": 421
        },
        "id": "e3aBqCrz6ZWg",
        "outputId": "33ec67e4-8442-4cc4-dbf5-5bd79a4ae1cf"
      },
      "outputs": [
        {
          "output_type": "execute_result",
          "data": {
            "text/plain": [
              "Text(0, 0.5, 'Error rate')"
            ]
          },
          "metadata": {},
          "execution_count": 225
        },
        {
          "output_type": "display_data",
          "data": {
            "text/plain": [
              "<Figure size 720x432 with 1 Axes>"
            ],
            "image/png": "[encoded data removed]"
          },
          "metadata": {
            "needs_background": "light"
          }
        }
      ],
      "source": [
        "plt.figure(figsize=(10,6))\n",
        "plt.plot(range(MIN_K,MAX_K+1),error_rate_arr,color='blue',linestyle='dashed', marker='o',\n",
        "         markerfacecolor='red', markersize=10)\n",
        "plt.title('Error rate vs K')\n",
        "plt.xlabel('K')\n",
        "plt.ylabel('Error rate')"
      ]
    },
    {
      "cell_type": "markdown",
      "metadata": {
        "id": "32CvrMLV6ZWh"
      },
      "source": [
        "**Retrain with new K Value**"
      ]
    },
    {
      "cell_type": "markdown",
      "metadata": {
        "id": "rXPiIZcB6ZWi"
      },
      "source": [
        "Retrain your model with the best K value (up to you to decide what you want) and re-do the classification report and the confusion matrix."
      ]
    },
    {
      "cell_type": "code",
      "execution_count": 226,
      "metadata": {
        "collapsed": true,
        "id": "D22b6tx36ZWi"
      },
      "outputs": [],
      "source": [
        "knn = KNeighborsClassifier(n_neighbors=best_k)\n",
        "knn.fit(x_train,y_train)\n",
        "pred = knn.predict(x_test)"
      ]
    },
    {
      "cell_type": "code",
      "execution_count": 227,
      "metadata": {
        "colab": {
          "base_uri": "https://localhost:8080/"
        },
        "id": "ltUP04u96ZWj",
        "outputId": "cd3db730-bbfc-4d5a-cfd7-290badb24faf"
      },
      "outputs": [
        {
          "output_type": "stream",
          "name": "stdout",
          "text": [
            "[[0 0 0 0 0 1]\n",
            " [0 0 0 0 1 1]\n",
            " [0 0 0 0 0 0]\n",
            " [0 0 2 0 0 0]\n",
            " [0 0 0 0 3 0]\n",
            " [0 0 0 0 0 2]]\n",
            "              precision    recall  f1-score   support\n",
            "\n",
            "           0       0.00      0.00      0.00         1\n",
            "           1       0.00      0.00      0.00         2\n",
            "           2       0.00      0.00      0.00         0\n",
            "           3       0.00      0.00      0.00         2\n",
            "           6       0.75      1.00      0.86         3\n",
            "           8       0.50      1.00      0.67         2\n",
            "\n",
            "    accuracy                           0.50        10\n",
            "   macro avg       0.21      0.33      0.25        10\n",
            "weighted avg       0.33      0.50      0.39        10\n",
            "\n"
          ]
        }
      ],
      "source": [
        "print(confusion_matrix(y_test,pred))\n",
        "print(classification_report(y_test,pred,zero_division=0))"
      ]
    },
    {
      "cell_type": "markdown",
      "metadata": {
        "id": "XXzD3V_T6ZWj"
      },
      "source": [
        "**:)**"
      ]
    }
  ],
  "metadata": {
    "colab": {
      "collapsed_sections": [
        "4GQhuPnKGMDv"
      ],
      "provenance": []
    },
    "kernelspec": {
      "display_name": "Python 3",
      "language": "python",
      "name": "python3"
    },
    "language_info": {
      "codemirror_mode": {
        "name": "ipython",
        "version": 3
      },
      "file_extension": ".py",
      "mimetype": "text/x-python",
      "name": "python",
      "nbconvert_exporter": "python",
      "pygments_lexer": "ipython3",
      "version": "3.6.5"
    }
  },
  "nbformat": 4,
  "nbformat_minor": 0
}